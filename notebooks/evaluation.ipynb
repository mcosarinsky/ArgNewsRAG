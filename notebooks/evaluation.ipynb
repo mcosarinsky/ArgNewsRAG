{
 "cells": [
  {
   "cell_type": "markdown",
   "metadata": {},
   "source": [
    "### Preprocesamiento"
   ]
  },
  {
   "cell_type": "code",
   "execution_count": 1,
   "metadata": {},
   "outputs": [
    {
     "name": "stderr",
     "output_type": "stream",
     "text": [
      "[nltk_data] Downloading package punkt_tab to /home/matias/nltk_data...\n",
      "[nltk_data]   Package punkt_tab is already up-to-date!\n",
      "[nltk_data] Downloading package stopwords to /home/matias/nltk_data...\n",
      "[nltk_data]   Package stopwords is already up-to-date!\n"
     ]
    }
   ],
   "source": [
    "import evaluate\n",
    "from nltk.corpus import stopwords\n",
    "from nltk.tokenize import word_tokenize\n",
    "import nltk\n",
    "import string\n",
    "\n",
    "nltk.download('punkt_tab')\n",
    "nltk.download('stopwords')\n",
    "\n",
    "def preprocess_text(text):\n",
    "    stop_words = set(stopwords.words('spanish'))\n",
    "    punctution = set(string.punctuation)\n",
    "    words_to_remove = stop_words.union(punctution)\n",
    "\n",
    "    # Tokenize input\n",
    "    word_tokens = word_tokenize(text, language='spanish')\n",
    "    \n",
    "    # Filter out stopwords\n",
    "    filtered_words = [word for word in word_tokens if word.lower() not in words_to_remove]\n",
    "    \n",
    "    # Rejoin filtered words into a single string\n",
    "    return ' '.join(filtered_words)\n",
    "\n",
    "\n",
    "def f1(prediction, truth):\n",
    "    pred_tokens = preprocess_text(prediction).split()\n",
    "    truth_tokens = preprocess_text(truth).split()\n",
    "    \n",
    "    # if either the prediction or the truth is no-answer then f1 = 1 if they agree, 0 otherwise\n",
    "    if len(pred_tokens) == 0 or len(truth_tokens) == 0:\n",
    "        return int(pred_tokens == truth_tokens)\n",
    "    \n",
    "    common_tokens = set(pred_tokens) & set(truth_tokens)\n",
    "    \n",
    "    # if there are no common tokens then f1 = 0\n",
    "    if len(common_tokens) == 0:\n",
    "        return 0\n",
    "    \n",
    "    prec = len(common_tokens) / len(pred_tokens)\n",
    "    rec = len(common_tokens) / len(truth_tokens)\n",
    "    \n",
    "    return 2 * (prec * rec) / (prec + rec)\n",
    "\n",
    "bleu = evaluate.load(\"bleu\")\n",
    "rouge = evaluate.load(\"rouge\")\n",
    "bertscore = evaluate.load(\"bertscore\")"
   ]
  },
  {
   "cell_type": "code",
   "execution_count": 2,
   "metadata": {},
   "outputs": [],
   "source": [
    "import pandas as pd\n",
    "\n",
    "dataset = pd.read_csv('../data/qa_dataset_v2.csv')\n",
    "\n",
    "references = dataset['Respuesta'].tolist()\n",
    "predictions = dataset['Respuesta modelo'].tolist()\n",
    "\n",
    "references_proc = [preprocess_text(ref) for ref in references]\n",
    "predictions_proc = [preprocess_text(pred) for pred in predictions]"
   ]
  },
  {
   "cell_type": "markdown",
   "metadata": {},
   "source": [
    "### Evaluación"
   ]
  },
  {
   "cell_type": "code",
   "execution_count": 5,
   "metadata": {},
   "outputs": [
    {
     "name": "stderr",
     "output_type": "stream",
     "text": [
      "100%|██████████| 198/198 [00:56<00:00,  3.50it/s]\n"
     ]
    },
    {
     "data": {
      "application/vnd.jupyter.widget-view+json": {
       "model_id": "f84536def1084f67829fe5794ae5fff3",
       "version_major": 2,
       "version_minor": 0
      },
      "text/plain": [
       "tokenizer_config.json:   0%|          | 0.00/49.0 [00:00<?, ?B/s]"
      ]
     },
     "metadata": {},
     "output_type": "display_data"
    },
    {
     "data": {
      "application/vnd.jupyter.widget-view+json": {
       "model_id": "979848c08238490ca2406a437dc48567",
       "version_major": 2,
       "version_minor": 0
      },
      "text/plain": [
       "config.json:   0%|          | 0.00/625 [00:00<?, ?B/s]"
      ]
     },
     "metadata": {},
     "output_type": "display_data"
    },
    {
     "data": {
      "application/vnd.jupyter.widget-view+json": {
       "model_id": "64dbdf51f86f4b309810427cf3b39104",
       "version_major": 2,
       "version_minor": 0
      },
      "text/plain": [
       "vocab.txt:   0%|          | 0.00/996k [00:00<?, ?B/s]"
      ]
     },
     "metadata": {},
     "output_type": "display_data"
    },
    {
     "data": {
      "application/vnd.jupyter.widget-view+json": {
       "model_id": "0e9ce8bd805f4546a6bf92533cabc6f2",
       "version_major": 2,
       "version_minor": 0
      },
      "text/plain": [
       "tokenizer.json:   0%|          | 0.00/1.96M [00:00<?, ?B/s]"
      ]
     },
     "metadata": {},
     "output_type": "display_data"
    },
    {
     "data": {
      "application/vnd.jupyter.widget-view+json": {
       "model_id": "0d3d36d1be5f4efbb9ada27c302751ce",
       "version_major": 2,
       "version_minor": 0
      },
      "text/plain": [
       "model.safetensors:   0%|          | 0.00/714M [00:00<?, ?B/s]"
      ]
     },
     "metadata": {},
     "output_type": "display_data"
    }
   ],
   "source": [
    "from tqdm import tqdm \n",
    "\n",
    "scores = {'bleu': [], 'rouge': [], 'f1': []}\n",
    "\n",
    "for ref, pred in tqdm(zip(references_proc, predictions_proc), total=len(references)):\n",
    "    bleu_score = bleu.compute(references=[ref], predictions=[pred], tokenizer=lambda x:x)\n",
    "    rouge_score = rouge.compute(references=[ref], predictions=[pred], tokenizer=lambda x:x)\n",
    "    f1_score = f1(pred, ref)\n",
    "    \n",
    "    scores['bleu'].append(bleu_score)\n",
    "    scores['rouge'].append(rouge_score)\n",
    "    scores['f1'].append(f1_score)\n",
    "\n",
    "scores['bertscore'] = bertscore.compute(references=references, predictions=predictions, lang='es')"
   ]
  },
  {
   "cell_type": "markdown",
   "metadata": {},
   "source": [
    "### Resultados"
   ]
  },
  {
   "cell_type": "code",
   "execution_count": 6,
   "metadata": {},
   "outputs": [
    {
     "name": "stdout",
     "output_type": "stream",
     "text": [
      "Ejemplo de diferencia de scores usando método de evaluación contextual:\n",
      "\n",
      "Máximo Kirchner renunció porque consideraba que esta decisión facilitaría el trabajo de Alberto Fernández y le permitía expresar su desacuerdo con el entendimiento con el FMI.\n",
      "La razón principal fue la falta de acuerdo con la estrategia utilizada y los resultados obtenidos en la negociación con el Fondo Monetario Internacional (FMI).\n",
      "\n",
      "BLEU: 0.24, ROUGE: 0.42, F1: 0.07, BERTScore F1: 0.71\n"
     ]
    }
   ],
   "source": [
    "print(\"Ejemplo de diferencia de scores usando método de evaluación contextual:\\n\")\n",
    "print(references[1])\n",
    "print(predictions[1])\n",
    "\n",
    "print(f\"\"\"\\nBLEU: {round(scores[\"bleu\"][1]['bleu'], 2)}, ROUGE: {round(scores[\"rouge\"][1]['rougeL'], 2)}, F1: {round(scores[\"f1\"][1], 2)}, BERTScore F1: {round(scores[\"bertscore\"][\"f1\"][1], 2)}\"\"\")"
   ]
  },
  {
   "cell_type": "code",
   "execution_count": 7,
   "metadata": {},
   "outputs": [
    {
     "data": {
      "image/png": "[encoded data removed]",
      "text/plain": [
       "<Figure size 1000x600 with 1 Axes>"
      ]
     },
     "metadata": {},
     "output_type": "display_data"
    }
   ],
   "source": [
    "import seaborn as sns\n",
    "import matplotlib.pyplot as plt\n",
    "\n",
    "rouge_2_scores = [score['rouge2'] for score in scores['rouge']]\n",
    "bert_f1_scores = scores['bertscore']['f1']\n",
    "bleu_scores = [score['bleu'] for score in scores['bleu']]\n",
    "f1_scores = scores['f1']\n",
    "\n",
    "df = pd.DataFrame({'BLEU': bleu_scores, 'F1': f1_scores, 'ROUGE-2': rouge_2_scores, 'BERTScore F1': bert_f1_scores})\n",
    "\n",
    "plt.figure(figsize=(10, 6))\n",
    "sns.boxplot(data=df)\n",
    "plt.title(\"Distribución de scores de evaluación para distintas métricas\")\n",
    "plt.savefig('../figures/eval_metrics_boxplot.png', dpi=300, bbox_inches='tight')"
   ]
  }
 ],
 "metadata": {
  "kernelspec": {
   "display_name": "base",
   "language": "python",
   "name": "python3"
  },
  "language_info": {
   "codemirror_mode": {
    "name": "ipython",
    "version": 3
   },
   "file_extension": ".py",
   "mimetype": "text/x-python",
   "name": "python",
   "nbconvert_exporter": "python",
   "pygments_lexer": "ipython3",
   "version": "3.12.2"
  }
 },
 "nbformat": 4,
 "nbformat_minor": 2
}
